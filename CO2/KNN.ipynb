{
 "cells": [
  {
   "cell_type": "code",
   "execution_count": 76,
   "id": "7574461d",
   "metadata": {},
   "outputs": [],
   "source": [
    "import pandas as pd # for reading  datsaet"
   ]
  },
  {
   "cell_type": "code",
   "execution_count": 77,
   "id": "02b69379",
   "metadata": {},
   "outputs": [],
   "source": [
    "dst=pd.read_csv('sonar.all-data.csv')"
   ]
  },
  {
   "cell_type": "code",
   "execution_count": 79,
   "id": "04828b57",
   "metadata": {},
   "outputs": [],
   "source": [
    "from sklearn.preprocessing import StandardScaler  #using StdScr"
   ]
  },
  {
   "cell_type": "code",
   "execution_count": 80,
   "id": "efcfabb3",
   "metadata": {},
   "outputs": [],
   "source": [
    "objSc=StandardScaler()                 #object"
   ]
  },
  {
   "cell_type": "code",
   "execution_count": 81,
   "id": "8b2f9a02",
   "metadata": {},
   "outputs": [
    {
     "data": {
      "text/plain": [
       "StandardScaler()"
      ]
     },
     "execution_count": 81,
     "metadata": {},
     "output_type": "execute_result"
    }
   ],
   "source": [
    "objSc.fit(dst.drop('R',axis=1))"
   ]
  },
  {
   "cell_type": "code",
   "execution_count": 83,
   "id": "5a902245",
   "metadata": {},
   "outputs": [],
   "source": [
    "datatrans=objSc.transform(dst.drop('R',axis=1))"
   ]
  },
  {
   "cell_type": "code",
   "execution_count": 86,
   "id": "2bf7d926",
   "metadata": {},
   "outputs": [],
   "source": [
    "df=pd.DataFrame(datatrans,columns=dst.columns[:-1]) #dstast and clum heading"
   ]
  },
  {
   "cell_type": "code",
   "execution_count": 88,
   "id": "2f3ff89f",
   "metadata": {},
   "outputs": [],
   "source": [
    "from sklearn.model_selection import train_test_split\n",
    "x=df\n",
    "y=dst['R']"
   ]
  },
  {
   "cell_type": "code",
   "execution_count": 89,
   "id": "41f755ce",
   "metadata": {},
   "outputs": [],
   "source": [
    "x_train,x_test,y_train,y_test=train_test_split(x,y,test_size=0.3,random_state=42)"
   ]
  },
  {
   "cell_type": "code",
   "execution_count": 90,
   "id": "f20e9ebd",
   "metadata": {},
   "outputs": [],
   "source": [
    "from sklearn.neighbors import KNeighborsClassifier"
   ]
  },
  {
   "cell_type": "code",
   "execution_count": 99,
   "id": "42b60396",
   "metadata": {},
   "outputs": [],
   "source": [
    "k=KNeighborsClassifier(n_neighbors=1)"
   ]
  },
  {
   "cell_type": "code",
   "execution_count": 100,
   "id": "6a60299d",
   "metadata": {},
   "outputs": [
    {
     "data": {
      "text/plain": [
       "KNeighborsClassifier(n_neighbors=1)"
      ]
     },
     "execution_count": 100,
     "metadata": {},
     "output_type": "execute_result"
    }
   ],
   "source": [
    "k.fit(x_train,y_train)"
   ]
  },
  {
   "cell_type": "code",
   "execution_count": 101,
   "id": "df3e6225",
   "metadata": {},
   "outputs": [],
   "source": [
    "pred=k.predict(x_test)"
   ]
  },
  {
   "cell_type": "code",
   "execution_count": 104,
   "id": "f21c33d8",
   "metadata": {},
   "outputs": [],
   "source": [
    "from sklearn.metrics import confusion_matrix,classification_report"
   ]
  },
  {
   "cell_type": "code",
   "execution_count": 105,
   "id": "75ec436f",
   "metadata": {},
   "outputs": [
    {
     "name": "stdout",
     "output_type": "stream",
     "text": [
      "[[30  5]\n",
      " [ 6 22]]\n"
     ]
    }
   ],
   "source": [
    "print(confusion_matrix(pred,y_test))"
   ]
  },
  {
   "cell_type": "code",
   "execution_count": 106,
   "id": "a89cc61d",
   "metadata": {},
   "outputs": [
    {
     "name": "stdout",
     "output_type": "stream",
     "text": [
      "              precision    recall  f1-score   support\n",
      "\n",
      "           M       0.83      0.86      0.85        35\n",
      "           R       0.81      0.79      0.80        28\n",
      "\n",
      "    accuracy                           0.83        63\n",
      "   macro avg       0.82      0.82      0.82        63\n",
      "weighted avg       0.83      0.83      0.83        63\n",
      "\n"
     ]
    }
   ],
   "source": [
    "print(classification_report(pred,y_test))"
   ]
  },
  {
   "cell_type": "code",
   "execution_count": null,
   "id": "6868f277",
   "metadata": {},
   "outputs": [],
   "source": []
  }
 ],
 "metadata": {
  "kernelspec": {
   "display_name": "Python 3 (ipykernel)",
   "language": "python",
   "name": "python3"
  },
  "language_info": {
   "codemirror_mode": {
    "name": "ipython",
    "version": 3
   },
   "file_extension": ".py",
   "mimetype": "text/x-python",
   "name": "python",
   "nbconvert_exporter": "python",
   "pygments_lexer": "ipython3",
   "version": "3.9.12"
  }
 },
 "nbformat": 4,
 "nbformat_minor": 5
}
